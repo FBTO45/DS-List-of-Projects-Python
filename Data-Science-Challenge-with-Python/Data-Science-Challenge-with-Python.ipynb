{
 "cells": [
  {
   "cell_type": "markdown",
   "id": "3e0735e3",
   "metadata": {},
   "source": [
    "# Apa saja yang dibahas dalam project ini?\n",
    "\n",
    "Project ini berupa tes terkait kemampuan data science yang terdiri atas empat tes, yaitu:\n",
    "\n",
    "1. Tes Probabilitas, yang dirancang untuk memperlihatkan kemampuan member dalam mengkoseptualisasikan pengetahuan dalam bidang probabilitas.\n",
    "2. Tes Statistik, yang dirancang untuk memperlihatkan pengetahuan member terkait dasar-dasar ilmu statistik.\n",
    "3. Tes Interpretasi Model, yang dirancang untuk memperlihatkan kemampuan member dalam memberikan insight/kesimpulan dan pengambilan keputusan pendukung terkait dengan model yang dibangun melalui penerapan data science.\n",
    "4. Tes Pemograman, yang dirancang untuk memperlihatkan kemampuan member dalam menrepakan logical thinking (berfikir logis) melalui kode-kode program yang ditanyakan. Bahasa pemrograman yang digunakan adalah Python.#"
   ]
  },
  {
   "cell_type": "markdown",
   "id": "d2c9f764",
   "metadata": {},
   "source": []
  },
  {
   "cell_type": "markdown",
   "id": "7e76e367",
   "metadata": {},
   "source": [
    "Dict data type!\n",
    "Tuliskanlah kode python di code editor yang akan menyatukan tiga dictionary berikut \n",
    "|                   |\n",
    "|-------------------|\n",
    "|dic1 = {1:10, 2:20}|\n",
    "|dic2 = {3:30, 4:40}|\n",
    "|dic3 = {5:50, 6:60}|\n",
    "\n",
    "\n",
    "menjadi satu dictionary dalam dic4\n",
    "\n",
    "Gantilah _ _ _ dengan fungsi/literal/variabel yang sesuai"
   ]
  },
  {
   "cell_type": "code",
   "execution_count": 2,
   "id": "66fdb2b1",
   "metadata": {},
   "outputs": [
    {
     "name": "stdout",
     "output_type": "stream",
     "text": [
      "{1: 10, 2: 20, 3: 30, 4: 40, 5: 50, 6: 60}\n"
     ]
    }
   ],
   "source": [
    "dic1 = {1:10, 2:20}\n",
    "dic2 = {3:30, 4:40}\n",
    "dic3 = {5:50, 6:60}\n",
    "dic4 = {}\n",
    "for x in (dic1, dic2, dic3):\n",
    "    dic4.update(x)\n",
    "print(dic4)"
   ]
  },
  {
   "cell_type": "markdown",
   "id": "81670edf",
   "metadata": {},
   "source": [
    "Jumlah 7 Deret Pertama Fibonacci\n",
    "Tulislah sebuah fungsi Python yang digunakan untuk menghitung n deret pertama Fibonacci yang dimulai dari 0.\n",
    "|               |\n",
    "|---------------|\n",
    "|Input  :  n = 7|\n",
    "|Output :  20   |\n",
    "\n",
    "Gantilah _ _ _ dengan fungsi/literal/variabel yang sesuai"
   ]
  },
  {
   "cell_type": "code",
   "execution_count": 4,
   "id": "68b57434",
   "metadata": {},
   "outputs": [
    {
     "name": "stdout",
     "output_type": "stream",
     "text": [
      "20\n"
     ]
    }
   ],
   "source": [
    "# Buat fungsi penjumlahan deret Fibonacci\n",
    "def calculateSum(n):\n",
    "    if n <= 0:\n",
    "        return 0\n",
    "    fibo = [0] * n\n",
    "    fibo[1] = 1\n",
    "# Initialisasi hasil ke dalam variabel sm\n",
    "    sm = fibo[0] + fibo[1]\n",
    "# Tambahkan suku-suku berikutnya\n",
    "    for i in range(2, n):\n",
    "        fibo[i] = fibo[i-1] + fibo[i-2]\n",
    "        sm += fibo[i]\n",
    "    return sm\n",
    "# Evaluasi hasil deret untuk n = 7    \n",
    "print(calculateSum(7))"
   ]
  },
  {
   "cell_type": "markdown",
   "id": "54683de0",
   "metadata": {},
   "source": [
    "# Penutup Project ini.\n",
    "\n",
    "Selamat! Kamu telah berhasil menyelesaikan project ini.\n",
    "\n",
    "Dengan menyelesaikan project ini, kamu memperlihatkan:\n",
    "\n",
    "- Kemampuan untuk mengkonseptualisasikan pengetahuan dalam bidang probabilitas\n",
    "- Kemampuan memahami dasar-dasar ilmu statistika\n",
    "- Kemampuan memberikan insight/kesimpulan dan pengambilan keputusan pendukung terkait model yang dibangun melalui penerapan data science\n",
    "- Menerapkan logical thinking (berpikir logis) lewat kode-kode program yang ditanyakan menggunakan Python"
   ]
  }
 ],
 "metadata": {
  "kernelspec": {
   "display_name": "Python 3",
   "language": "python",
   "name": "python3"
  },
  "language_info": {
   "codemirror_mode": {
    "name": "ipython",
    "version": 3
   },
   "file_extension": ".py",
   "mimetype": "text/x-python",
   "name": "python",
   "nbconvert_exporter": "python",
   "pygments_lexer": "ipython3",
   "version": "3.13.3"
  }
 },
 "nbformat": 4,
 "nbformat_minor": 5
}
