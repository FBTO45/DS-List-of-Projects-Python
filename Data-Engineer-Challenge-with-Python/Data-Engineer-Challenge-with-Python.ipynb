{
 "cells": [
  {
   "cell_type": "markdown",
   "id": "a8b551a7",
   "metadata": {},
   "source": [
    "# Apa saja yang dibahas dalam project ini?\n",
    "\n",
    "Project ini berupa tes untuk melihat kemampuan kamu dalam mulai berkarir menjadi Data Engineer. Tes ini terdiri atas 2 (dua) bagian, yaitu: \n",
    "\n",
    "1. Web Scraping, yang dirancang untuk memperlihatkan kemampuan member dalam mengambil data dari website dalam bentuk data HTML\n",
    "2. Function and Regular Expression, yang dirancang untuk memperlihatkan pengetahuan member terkait dasar-dasar pembuatan sebuah function dan penggunaan Regular Expression dalam bahasa pemrograman Python."
   ]
  },
  {
   "cell_type": "markdown",
   "id": "e346cf02",
   "metadata": {},
   "source": [
    "# Web Scraping\n",
    "\n",
    "Sebagai seorang Data Engineer, Anda diminta untuk menggali informasi dari https://id.wikipedia.org/wiki/Demografi_Indonesia menggunakan bahasa pemrograman Python. \n",
    "\n",
    "Buatlah suatu script Python untuk menyimpan tabel \"Jumlah Penduduk menurut Provinsi\" dari web tersebut dengan format CSV.\n",
    "\n",
    "File CSV menggunakan format double-apostrophe quoting ('...') dan disimpan dengan nama 'Indonesia_Demography_by_Province.csv'.\n",
    "\n",
    "Kolom yang perlu Anda ambil adalah sebagai berikut.\n",
    "\n",
    "- Nama provinsi \n",
    "- Luas (km2)\n",
    "- Populasi (2010)\n",
    "- Populasi (2020)\n",
    "\n",
    "Dataframe yang akan kamu buat diassign dengan nama variabel df."
   ]
  },
  {
   "cell_type": "code",
   "execution_count": null,
   "id": "dff71249",
   "metadata": {},
   "outputs": [
    {
     "name": "stdout",
     "output_type": "stream",
     "text": [
      "                    Nama Provinsi     Luas km Populasi 2010 Populasi 2020\n",
      "0                            Aceh   56.500,51     4.494.410     5.274.871\n",
      "1                  Sumatera Utara   72.427,81    12.982.204    14.799.361\n",
      "2                  Sumatera Barat   42.224,65     4.846.909     5.534.472\n",
      "3                            Riau   87.844,23     5.538.367     6.394.087\n",
      "4                           Jambi   45.348,49     3.092.265     3.548.228\n",
      "5                Sumatera Selatan   91.592,43     7.450.394     8.467.432\n",
      "6                        Bengkulu   19.795,15     1.715.518     2.010.670\n",
      "7                         Lampung   37.735,15     7.608.405     9.007.848\n",
      "8       Kepulauan Bangka Belitung   16.424,14     1.223.296     1.455.678\n",
      "9                  Kepulauan Riau    8.084,01     1.679.163     2.064.564\n",
      "10  Daerah Khusus Ibukota Jakarta      740,29     9.607.787    10.562.088\n",
      "11                     Jawa Barat   36.925,05    43.053.732    48.274.162\n",
      "12                    Jawa Tengah   32.799,71    32.382.657    36.516.035\n",
      "13     Daerah Istimewa Yogyakarta    3.133,15     3.457.491     3.668.719\n",
      "14                     Jawa Timur   46.689,64    37.476.757    40.665.696\n",
      "15                         Banten    9.018,64    10.632.166    11.904.562\n",
      "16                           Bali    5.449,37     3.890.757     4.317.404\n",
      "17            Nusa Tenggara Barat   19.708,79     4.500.212     5.320.092\n",
      "18            Nusa Tenggara Timur   46.137,87     4.683.827     5.325.566\n",
      "19               Kalimantan Barat  120.114,32     4.395.983     5.414.390\n",
      "20              Kalimantan Tengah  153.564,50     2.212.089     2.669.969\n",
      "21             Kalimantan Selatan   37.530,52     3.626.616     4.073.584\n",
      "22               Kalimantan Timur  194.849,08     3.553.143     3.766.039\n",
      "23               Kalimantan Utara   72.567,49       738.163       701.814\n",
      "24                 Sulawesi Utara   13.930,73     2.270.596     2.621.923\n",
      "25                Sulawesi Tengah   68.089,83     2.635.009     2.985.734\n",
      "26               Sulawesi Selatan   46.116,45     8.034.776     9.073.509\n",
      "27              Sulawesi Tenggara   36.757,45     2.232.586     2.624.875\n",
      "28                      Gorontalo   12.165,44     1.040.164     1.171.681\n",
      "29                 Sulawesi Barat   16.787,19     1.158.651     1.419.229\n",
      "30                         Maluku   47.350,42     1.533.506     1.848.923\n",
      "31                   Maluku Utara   39.959,99     1.038.087     1.282.937\n",
      "32                    Papua Barat  114.566,40       760.422     1.134.068\n",
      "33                          Papua  309.934,40     2.833.381     4.303.707\n"
     ]
    },
    {
     "name": "stderr",
     "output_type": "stream",
     "text": [
      "C:\\Users\\hp\\AppData\\Local\\Temp\\ipykernel_5520\\3871215073.py:15: DeprecationWarning: Call to deprecated method findAll. (Replaced by find_all) -- Deprecated since version 4.0.0.\n",
      "  links = my_table.findAll('td')\n"
     ]
    }
   ],
   "source": [
    "#import library yang dibutuhkan\n",
    "import pandas as pd\n",
    "import requests\n",
    "from bs4 import BeautifulSoup\n",
    "\n",
    "#buatlah request ke website\n",
    "website_url = requests.get('https://id.wikipedia.org/wiki/Demografi_Indonesia').text\n",
    "soup = BeautifulSoup(website_url, 'html.parser')\n",
    "\n",
    "#ambil table dengan class 'wikitable sortable'\n",
    "my_table = soup.find('table', {'class':'wikitable sortable'})\n",
    "\n",
    "#cari data dengan tag 'td'\n",
    "links = my_table.findAll('td')\n",
    "\n",
    "#buatlah lists kosong \n",
    "nama = []\n",
    "luas_km = []\n",
    "populasi10 = []\n",
    "populasi20 = []\n",
    "\n",
    "#memasukkan data ke dalam list berdasarkan pola HTML\n",
    "for i, link in enumerate(links):\n",
    " if i in range(0, len(links), 4):\n",
    "  nama.append(link.get_text()[:-1])\n",
    " if i in range(1, len(links), 4):\n",
    "  luas_km.append(link.get_text()[:-1])\n",
    " if i in range(2, len(links), 4):\n",
    "  populasi10.append(link.get_text()[:-1])\n",
    " if i in range(3, len(links), 4):\n",
    "  populasi20.append(link.get_text()[:-1])\n",
    "\n",
    "#buatlah DataFrame dan masukkan ke CSV\n",
    "df = pd.DataFrame()\n",
    "df['Nama Provinsi'] = nama\n",
    "df['Luas km'] = luas_km\n",
    "df['Populasi 2010'] = populasi10\n",
    "df['Populasi 2020'] = populasi20\n",
    "df.to_csv('Indonesia_Demography_by_Province.csv', index=False, encoding='utf-8', quoting=1)\n",
    "print(df)"
   ]
  },
  {
   "cell_type": "markdown",
   "id": "ff9d6a90",
   "metadata": {},
   "source": [
    "Function and Regular Expression\n",
    "Sebagai seorang Data Engineer, Anda diminta untuk membuat suatu fungsi yang bernama “email_check” untuk menyaring beberapa email menggunakan regular expression dalam bahasa pemrograman Python. Fungsi ini akan menerima suatu parameter yang bernama “input” yang mana merupakan email dan output-nya akan berupa “Pass” atau “Not Pass”. Fungsinya harus memenuhi pola berikut :\n",
    "\n",
    "|Pola\t|Pass / Not Pass |\n",
    "|-------|----------------|\n",
    "|my-name@someemail.com |Not Pass |\n",
    "|myname@someemail.com   |Pass|\n",
    "|my.name@someemail.com |Pass |\n",
    "|my.name2019@someemail.com |Pass |\n",
    "|my.name.2019@someemail.com |Not Pass |\n",
    "|somename.201903@someemail.com |Not Pass |\n",
    "|my_name.201903@someemail.com |Pass |\n",
    "|201903myname@someemail.com |Not Pass |\n",
    "|201903.myname@someemail.com |Not Pass |\n",
    "\n"
   ]
  },
  {
   "cell_type": "code",
   "execution_count": 8,
   "id": "1fd81cba",
   "metadata": {},
   "outputs": [
    {
     "name": "stdout",
     "output_type": "stream",
     "text": [
      "Not Pass\n",
      "Pass\n",
      "Pass\n",
      "Pass\n",
      "Not Pass\n",
      "Not Pass\n",
      "Pass\n",
      "Not Pass\n",
      "Not Pass\n"
     ]
    },
    {
     "name": "stderr",
     "output_type": "stream",
     "text": [
      "<>:6: SyntaxWarning: invalid escape sequence '\\.'\n",
      "<>:6: SyntaxWarning: invalid escape sequence '\\.'\n",
      "C:\\Users\\hp\\AppData\\Local\\Temp\\ipykernel_5520\\241179558.py:6: SyntaxWarning: invalid escape sequence '\\.'\n",
      "  match = re.search('(?=^((?!-).)*$)(?=[^0-9])((?=^((?!\\.\\d).)*$)|(?=.*_))',input)\n"
     ]
    }
   ],
   "source": [
    "#import library yang dibutuhkan\n",
    "import re\n",
    "\n",
    "#function email_check\n",
    "def email_check(input):\n",
    " match = re.search('(?=^((?!-).)*$)(?=[^0-9])((?=^((?!\\.\\d).)*$)|(?=.*_))',input)\n",
    " if match:\n",
    "  print('Pass')\n",
    " else:\n",
    "  print('Not Pass')\n",
    "\n",
    "#Masukkan data email ke dalam list\n",
    "emails = ['my-name@someemail.com', 'myname@someemail.com', 'my.name@someemail.com', 'my.name2019@someemail.com', 'my.name.2019@someemail.com', 'somename.201903@someemail.com', 'my_name.201903@someemail.com', '201903myname@someemail.com', '201903.myname@someemail.com']\n",
    "\n",
    "\n",
    "#Looping untuk pengecekan Pass atau Not Pass, gunakan variabel email untuk mengiterasi emails\n",
    "for email in emails :\n",
    " email_check(email)"
   ]
  }
 ],
 "metadata": {
  "kernelspec": {
   "display_name": "Python 3",
   "language": "python",
   "name": "python3"
  },
  "language_info": {
   "codemirror_mode": {
    "name": "ipython",
    "version": 3
   },
   "file_extension": ".py",
   "mimetype": "text/x-python",
   "name": "python",
   "nbconvert_exporter": "python",
   "pygments_lexer": "ipython3",
   "version": "3.13.3"
  }
 },
 "nbformat": 4,
 "nbformat_minor": 5
}
